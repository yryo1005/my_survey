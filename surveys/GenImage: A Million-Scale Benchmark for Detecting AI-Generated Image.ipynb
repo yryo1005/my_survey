{
 "cells": [
  {
   "attachments": {},
   "cell_type": "markdown",
   "metadata": {},
   "source": [
    "# GenImage: A Million-Scale Benchmark for Detecting AI-Generated Image\n",
    "\n",
    "Zhu, Mingjian, et al. \"GenImage: A Million-Scale Benchmark for Detecting AI-Generated Image.\" arXiv preprint arXiv:2306.08571 (2023).\n",
    "\n",
    "https://arxiv.org/abs/2306.08571\n",
    "\n",
    "## AI生成画像を判別するための大規模データセットを作ったよ\n",
    "\n",
    "### 記入日\n",
    "2023/11/21\n",
    "\n",
    "### カテゴリ\n",
    "- 画像\n",
    "\n",
    "### 概要\n",
    "BigGANやStable Diffusionなどの８種類の画像生成AIの生成画像からなるデータセットを作成．\n",
    "\n",
    "画像はImageNetのラベルをプロンプトとして作られいる．\n",
    "\n",
    "学習用として各モデルが各クラス毎に162枚，テスト用として6~8枚の画像がある（全画像数1,331,167）．\n",
    "\n",
    "作成したデータセットを用いて生成画像判別AIを学習し傾向を調査している．"
   ]
  },
  {
   "attachments": {},
   "cell_type": "markdown",
   "metadata": {},
   "source": [
    "![image_1](../images/GenImage:%20A%20Million-Scale%20Benchmark%20for%20Detecting%20AI-Generated%20Image%201.png)"
   ]
  },
  {
   "attachments": {},
   "cell_type": "markdown",
   "metadata": {},
   "source": [
    "上図は実際に生成された画像で，縦軸が生成モデル，横軸がカテゴリとなる．"
   ]
  },
  {
   "attachments": {},
   "cell_type": "markdown",
   "metadata": {},
   "source": [
    "![image_2](../images/GenImage:%20A%20Million-Scale%20Benchmark%20for%20Detecting%20AI-Generated%20Image%202.png)"
   ]
  },
  {
   "attachments": {},
   "cell_type": "markdown",
   "metadata": {},
   "source": [
    "表2はResNet-50で1つの生成モデルの画像のみで学習した際に，他の生成モデルの画像に対する精度を比較している．\n",
    "\n",
    "縦軸が学習に使用したデータセット，横軸はテストに使用したデータセットとなっている．\n",
    "\n",
    "学習したモデルの画像に対してはかなり高い精度で分類できているが，他のモデルに対してはまずまずの精度となっている．"
   ]
  },
  {
   "attachments": {},
   "cell_type": "markdown",
   "metadata": {},
   "source": [
    "![image_3](../images/GenImage:%20A%20Million-Scale%20Benchmark%20for%20Detecting%20AI-Generated%20Image%203.png)"
   ]
  },
  {
   "attachments": {},
   "cell_type": "markdown",
   "metadata": {},
   "source": [
    "表3はStable Diffusion v1.4で各分類器を学習させその精度を比較している．\n",
    "\n",
    "縦軸は分類器，横軸はテストデータの生成モデルである．\n",
    "\n",
    "表からSwin-Transformerが頭一つ抜けた精度を得られていることがわかる．\n",
    "\n",
    "表4は全部の生成モデルの画像を各分類器で学習させ，それぞれの生成モデルの画像に対して精度を比較している．\n",
    "\n",
    "縦軸は分類器，横軸はテストデータの生成モデルである．\n",
    "\n",
    "表から，全部の生成モデルの画像を同時に学習させると精度が出ていないことがわかる．\n",
    "\n",
    "この実験では学習に使用する現実画像と生成画像の枚数に乖離がある（クラスインバランス）があると考えられるが，何か対策はしたのだろうか．"
   ]
  }
 ],
 "metadata": {
  "kernelspec": {
   "display_name": "tf_214",
   "language": "python",
   "name": "python3"
  },
  "language_info": {
   "codemirror_mode": {
    "name": "ipython",
    "version": 3
   },
   "file_extension": ".py",
   "mimetype": "text/x-python",
   "name": "python",
   "nbconvert_exporter": "python",
   "pygments_lexer": "ipython3",
   "version": "3.9.18"
  },
  "orig_nbformat": 4
 },
 "nbformat": 4,
 "nbformat_minor": 2
}
