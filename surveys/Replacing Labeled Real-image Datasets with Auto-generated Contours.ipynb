{
 "cells": [
  {
   "attachments": {},
   "cell_type": "markdown",
   "metadata": {},
   "source": [
    "# Replacing Labeled Real-image Datasets with Auto-generated Contours\n",
    "\n",
    "Kataoka, Hirokatsu, et al. \"Replacing labeled real-image datasets with auto-generated contours.\" Proceedings of the IEEE/CVF Conference on Computer Vision and Pattern Recognition. 2022.\n",
    "\n",
    "https://openaccess.thecvf.com/content/CVPR2022/html/Kataoka_Replacing_Labeled_Real-Image_Datasets_With_Auto-Generated_Contours_CVPR_2022_paper.html\n",
    "\n",
    "## 方程式で描かれた画像を用いて事前学習することで精度向上！\n",
    "\n",
    "### カテゴリ\n",
    "- 画像\n",
    "\n",
    "### 概要\n",
    "従来画像認識モデルの事前学習で使用されるImageNetでは，プライバシーやラベリングの手間・ミスなどの問題があった．\n",
    "\n",
    "そこで，この研究では数式から作成される画像のデータセットを用いた事前学習手法(Formula-Driven superviesd learning; FDSL)を提案．\n",
    "\n",
    "FDSLとImageNet21Kを用いて同条件(Vision Trans Former; ViT，画像枚数，ハイパーパラメータ，学習反復回数)で学習したところFDSLを用いた場合の精度がImageNet21Kを用いた場合と比べ高いことを確認した．"
   ]
  },
  {
   "attachments": {},
   "cell_type": "markdown",
   "metadata": {},
   "source": [
    "![image_1](../images/Replacing%20Labeled%20Real-image%20Datasets%20with%20Auto-generated%20Contours%201.png)"
   ]
  },
  {
   "attachments": {},
   "cell_type": "markdown",
   "metadata": {},
   "source": [
    "上図は実際に使用されたデータセットの比較図であり，ImageNet-21kは自然画像で構成されたデータセット，ExFractalDB-21kはフラクタル画像から作成されたデータセット(先行研究)，RCDB-21kは輪郭放射画像から作成されたデータセット(本論文で提案)である．\n",
    "\n",
    "フラクタル画像を学習したViTのアテンションマップを確認したところ，数式画像で構成されたデータセットにおいてはオブジェクトの輪郭を認識することが重要であるという仮説が導け，その検証のためにRCDB-21kが作成された(確かに輪郭に対するアテンションマップが強くなっている)．\n",
    "\n",
    "数式はパラメータを変更することで簡単に多様性を確保でき，プライバシーを侵害することもないため，多様なラベル付きデータを社会的問題を起こさずに作成できる．\n",
    "\n",
    "輪郭放射画像は，頂点の数や輪郭のスムーズさ，ポリゴン数，角度などを調整することで複雑さを高めることができ，複雑さの向上が精度の向上につながるという仮説の検証に用いられる．\n",
    "\n",
    "ExFractalDB-21は2次元フラクタルではなく3次元フラクタルを用いることで複雑さを向上している．"
   ]
  },
  {
   "attachments": {},
   "cell_type": "markdown",
   "metadata": {},
   "source": [
    "![image_2](../images/Replacing%20Labeled%20Real-image%20Datasets%20with%20Auto-generated%20Contours%202.png)"
   ]
  },
  {
   "attachments": {},
   "cell_type": "markdown",
   "metadata": {},
   "source": [
    "上図は輪郭放射画像を作るアルゴリズムとなっている．\n",
    "\n",
    "ポリゴン数や角度，線の長さ等がこの画像に対する教師ラベルとなる(無限にパターンが増やせるのでクラスを増やしやすい)．"
   ]
  },
  {
   "attachments": {},
   "cell_type": "markdown",
   "metadata": {},
   "source": [
    "![image_3](../images/Replacing%20Labeled%20Real-image%20Datasets%20with%20Auto-generated%20Contours%203.png)"
   ]
  },
  {
   "attachments": {},
   "cell_type": "markdown",
   "metadata": {},
   "source": [
    "表7はそれぞれのデータセットを用いて事前学習し，画像分類を学習した際の精度の違いを，表8はそれぞれのデータセットを用いて事前学習し，物体認識を学習した際の精度の違いをを示す．\n",
    "\n",
    "いずれの結果も一貫して数式画像を用いて事前学習した結果が優れているわけではない．\n",
    "\n",
    "### 感想\n",
    "数式画像を用いて事前学習するというアプローチがすごく面白い．\n",
    "\n",
    "容易に量産可能で社会問題を引き起こさないので，一貫して精度が向上するような数式画像作成アルゴリズムができれば直ぐに実用化されそう？\n",
    "\n",
    "画像を見た限りモノクロだったので色を変化させるアプローチなどはどうだろうか"
   ]
  }
 ],
 "metadata": {
  "language_info": {
   "name": "python"
  },
  "orig_nbformat": 4
 },
 "nbformat": 4,
 "nbformat_minor": 2
}
